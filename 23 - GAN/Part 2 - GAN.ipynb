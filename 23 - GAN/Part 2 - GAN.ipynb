{
 "cells": [
  {
   "cell_type": "code",
   "execution_count": null,
   "id": "c8f53ca7",
   "metadata": {},
   "outputs": [],
   "source": [
    "!pip install gdown jcopdl\n",
    "!gdown https://drive.google.com/uc?id=1sGZwJdbk7ZWqKEORJp6blndHX8azDXkt\n"
   ]
  },
  {
   "cell_type": "code",
   "execution_count": null,
   "id": "0c036bb2",
   "metadata": {},
   "outputs": [],
   "source": [
    "# MNIST https://drive.google.com/uc?id=1sGZwJdbk7ZWqKEORJp6blndHX8azDXkt\n",
    "# DCGAN https://drive.google.com/uc?id=1jOwPCFKsIoQR1a0cEiKNpwPuw_kEpXAh\n",
    "# CelebA https://drive.google.com/uc?id=1KaiwyyYRGW8FbvSd4Feg1i1YW2k2s30u"
   ]
  },
  {
   "cell_type": "markdown",
   "id": "f69c9cbb",
   "metadata": {},
   "source": [
    "#### di GAN ini trainingnya gak stabil, maka untuk menghindari itu jangan ada angka nol\n",
    "* lakukan normalize\n",
    "* jangan gunakan relu (karna relu bisa menyebabkan angka nol)"
   ]
  },
  {
   "cell_type": "code",
   "execution_count": 2,
   "id": "c12753c8",
   "metadata": {},
   "outputs": [],
   "source": [
    "import torch\n",
    "from torch import nn,optim"
   ]
  },
  {
   "cell_type": "code",
   "execution_count": 3,
   "id": "f6055615",
   "metadata": {},
   "outputs": [
    {
     "data": {
      "text/plain": [
       "device(type='cpu')"
      ]
     },
     "execution_count": 3,
     "metadata": {},
     "output_type": "execute_result"
    }
   ],
   "source": [
    "device= torch.device(\"cuda\" if torch.cuda.is_available() else \"cpu\")\n",
    "device"
   ]
  },
  {
   "cell_type": "markdown",
   "id": "509783b0",
   "metadata": {},
   "source": [
    "# Dataset dan Dataloader ~> hanya data train"
   ]
  },
  {
   "cell_type": "code",
   "execution_count": 4,
   "id": "1a31f85b",
   "metadata": {},
   "outputs": [],
   "source": [
    "from torch.utils.data import DataLoader\n",
    "from torchvision import datasets,transforms"
   ]
  },
  {
   "cell_type": "code",
   "execution_count": 6,
   "id": "d934e4b8",
   "metadata": {},
   "outputs": [],
   "source": [
    "bs = 64\n",
    "\n",
    "transform = transforms.Compose([\n",
    "    transforms.Grayscale(),\n",
    "    transforms.ToTensor(),\n",
    "    transforms.Normalize([0.5], [0.5]) # normalisasi agar stabil dan menjadi [-1,1]\n",
    "])\n",
    "\n",
    "trainset=datasets.ImageFolder(\"data/train/\",transform=transform)\n",
    "trainloader = DataLoader(trainset,bs,shuffle=True, num_workers=4)"
   ]
  },
  {
   "cell_type": "markdown",
   "id": "ab0c035b",
   "metadata": {},
   "source": [
    "# Arsitektur dan Config\n",
    "* arsitektur nya kita buat 2, karna ada discriminator dan generator\n",
    "* coba tulis menjadi script agar gampang import import, syarat nya import lagi apa aja yang dibutuhin"
   ]
  },
  {
   "cell_type": "code",
   "execution_count": 29,
   "id": "b03ca7d0",
   "metadata": {
    "scrolled": false
   },
   "outputs": [
    {
     "name": "stdout",
     "output_type": "stream",
     "text": [
      "Writing model_gan2.py\n"
     ]
    }
   ],
   "source": [
    "%%writefile model_gan2.py \n",
    "# ini cara agar di tulis jadi script yang nanti nya bisa di import\n",
    "\n",
    "import torch\n",
    "from torch import nn, optim\n",
    "from jcopdl.layers import linear_block\n",
    "\n",
    "class Disciminator (nn.Module):\n",
    "    def __init__(self):\n",
    "        super().__init__()\n",
    "        self.fc = nn.Sequential(\n",
    "            nn.Flatten(),\n",
    "            linear_block(784,512, activation = \"lrelu\"), # activation ini untuk menghindari angka nol\n",
    "            linear_block(512,256, activation = \"lrelu\"),\n",
    "            linear_block(256,128, activation = \"lrelu\"),\n",
    "            linear_block(128,1, activation = \"sigmoid\")\n",
    "        )\n",
    "    def forward(self,x):\n",
    "        return self.fc(x)\n",
    "    \n",
    "class Generator (nn.Module):\n",
    "    def __init__(self, n_latent):\n",
    "        super().__init__()\n",
    "        self.n_latent = n_latent\n",
    "        self.fc = nn.Sequential(\n",
    "            linear_block(n_latent,128, activation = \"lrelu\"),\n",
    "            linear_block(128,256, activation = \"lrelu\", batch_norm = True), # activation ini untuk menghindari angka nol\n",
    "            linear_block(256,512, activation = \"lrelu\", batch_norm = True),\n",
    "            linear_block(512,1024, activation = \"lrelu\", batch_norm = True),\n",
    "            linear_block(1024,784, activation = \"tanh\") # karna tadi di generator input gambar nya dari -1 sampe 1 maka nya generate fake image harus menyesuaikan juga\n",
    "        )\n",
    "    def forward(self,x):\n",
    "        return self.fc(x)\n",
    "    \n",
    "    # buat satu fungsi untuk generate n(seberapa banyak) ukuran latent space atau random number seukuran dengan n_latent\n",
    "    def generate (self, n, device):\n",
    "        z= torch.randn((n, self.n_latent), device=device) # generate random number sebanyak n kali latent space kita atau generate n gambar palsu\n",
    "        return self.fc(z) # dari random number ini kita masukin ke arsitektur generator kita untuk di generate gambar"
   ]
  },
  {
   "cell_type": "code",
   "execution_count": 9,
   "id": "42a5a53e",
   "metadata": {},
   "outputs": [],
   "source": [
    "from jcopdl.callback import set_config"
   ]
  },
  {
   "cell_type": "code",
   "execution_count": 10,
   "id": "f5cfe74a",
   "metadata": {},
   "outputs": [],
   "source": [
    "config = set_config({\n",
    "    \"n_latent\" : 100,\n",
    "    \"batch_size\": bs\n",
    "})"
   ]
  },
  {
   "cell_type": "markdown",
   "id": "edc2bcd8",
   "metadata": {},
   "source": [
    "# Training Preparation ~> MCO\n",
    "* disini tanpa ada nya Callback karna model kita akan berkompetisi (generator dengan discriminator) sampe ke kedua nya sama sama pintar (nash equilibrium)\n",
    "* jadi kita akan menentukan mau seberapa banyak epoch nya. gunain konsep bayes varians trade off (kalau masih kurang ya training ulang dengan epoch yang lebih lama)\n",
    "* optimizer nya kita jangan gunain adam weight karna nanti bisa terkena mode collaps dimana antara generator atau discriminator kita tidak saling berkompetisi (maksudnya baru training awal awal saja sudah ada yang tidak training) ~> maka gunain adam biasa dan learning rate nya kecil aja biar model jalan nya pelan pelan"
   ]
  },
  {
   "cell_type": "code",
   "execution_count": 30,
   "id": "a68c50f2",
   "metadata": {},
   "outputs": [],
   "source": [
    "from model_gan2 import Disciminator,Generator"
   ]
  },
  {
   "cell_type": "code",
   "execution_count": 34,
   "id": "2890836b",
   "metadata": {},
   "outputs": [],
   "source": [
    "D = Disciminator().to(device)\n",
    "G = Generator(config.n_latent).to(device)\n",
    "\n",
    "criterion = nn.BCELoss()\n",
    "\n",
    "d_optimizer = optim.Adam(D.parameters(), lr=0.0002)\n",
    "g_optimizer = optim.Adam(G.parameters(), lr=0.0002)"
   ]
  },
  {
   "cell_type": "markdown",
   "id": "458b8ede",
   "metadata": {},
   "source": [
    "# Training \n",
    "* kita manual (seperti dulu training di nn) karna gak pakai Callback \n",
    "* disini kita juga akan generate real n fake images (karna nanti ini yang sebagai data input)\n",
    "\n",
    "* disini kita juga akan generate real n fake labels (karna kita gak gunain label asli kita)\n",
    "\n",
    "* disini kita juga akan training Discriminator ~> \n",
    "    - reset dulu zero_grad dari optimizer(reset gradien),\n",
    "    - feedforward aja data real dan data fake kita, tapi jangan lupa data fake kita di detach(diputus jalur ke generator nya)\n",
    "\n",
    "* disini kita juga akan training Generator ~>"
   ]
  },
  {
   "cell_type": "code",
   "execution_count": 37,
   "id": "e08eedc3",
   "metadata": {},
   "outputs": [],
   "source": [
    "import os\n",
    "os.makedirs(\"output/GAN/\",exist_ok=True)\n",
    "os.makedirs(\"model/GAN/\",exist_ok=True)\n",
    "\n",
    "from torchvision.utils import save_image # untuk hasil generate fake image ditampilin seperti colase"
   ]
  },
  {
   "cell_type": "code",
   "execution_count": null,
   "id": "96e8f095",
   "metadata": {},
   "outputs": [],
   "source": [
    "epochs = 500\n",
    "for epoch in range(epochs):\n",
    "    D.train()\n",
    "    G.train()\n",
    "    for real_img, _ in trainloader:\n",
    "        n_data = real_img.shape[0] #mastiin bahwa jumlah data yang diambil sebanyak 1 batch sama dengan 64\n",
    "        \n",
    "        # generate real n fake images\n",
    "        real_img = real_img.to(device)\n",
    "        fake_img = G.generate(n_data,device)\n",
    "        # real n fake labels\n",
    "        real = torch.ones((n_data, 1), device=device)\n",
    "        fake = torch.zeros((n_data, 1),device=device)\n",
    "        \n",
    "        # training Discriminator (hanya feedforward, hitung loss, bacprop, update weight)\n",
    "        d_optimizer.zero_grad() # buat mastiin aja tiap looping selalu reset dulu\n",
    "        # real image ~> Discriminator ~> label real\n",
    "        output = D(real_img) #feedforward\n",
    "        d_real_loss = criterion(output, real) # hitung loss\n",
    "        \n",
    "        # fake image ~> Discriminator ~> label fake\n",
    "        output = D(fake_img.detach()) #feedforward\n",
    "        d_fake_loss = criterion(output, fake) #hitung loss\n",
    "        \n",
    "        d_loss = d_real_loss+d_fake_loss # gabungin loss buat di hitung backprop\n",
    "        d_loss.backward() # backprop\n",
    "        d_optimizer.step() #update weight\n",
    "        \n",
    "        # training Generator\n",
    "        g_optimizer.zero_grad() # buat mastiin aja tiap looping selalu reset dulu\n",
    "        #Fake image ~> Discriminator ~> tapi label nya real\n",
    "        output = D(fake_img) #feedforward dari G.generate = fake image\n",
    "        g_loss = criterion(output, real) #hitung loss\n",
    "        \n",
    "        g_loss.backward() # backprop\n",
    "        g_optimizer.step() #update weight\n",
    "        \n",
    "        \n",
    "    if epoch % 5 == 0:\n",
    "        print(f\"Epoch:{epoch} | D_loss:{d_loss/2:.5f} | G_loss : {g_loss:.5f}\")\n",
    "    \n",
    "    if epoch % 15 == 0:   #tiap epoch yang habis dibagi 15 akan digenerate fake img nya, ya inti nya buat mantau model kita udah bisa generate fake image yang bagus apa belum\n",
    "        G.eval()\n",
    "        epoch=str(epoch).zfill(4) # untuk jadiin epoch nya string lalu zfill untuk menjadikan ada berapa angka yang bisa ditampung ex zfill 4 maka epoch ke 5 sama dengan 0005\n",
    "        fake_img = G.generate(64, device=device)\n",
    "        save_image(fake_img.view(64,1,28,28),f\"output/GAN/{epoch}.jpg\",nrow=8,normalize=True)\n",
    "        \n",
    "        torch.save(D,\"model/GAN/discriminator.pth\")\n",
    "        torch.save(G,\"model/GAN/generator.pth\") # kita bisa save model nya (bukan hanya weight saja), tapi dengan syarat arsitektur kita udah dalam bentuk script (.py) karna arsitektur kita sudah terbungkusd dan bisa di akses dimana pun\n",
    "        "
   ]
  }
 ],
 "metadata": {
  "kernelspec": {
   "display_name": "Python [conda env:jcop]",
   "language": "python",
   "name": "conda-env-jcop-py"
  },
  "language_info": {
   "codemirror_mode": {
    "name": "ipython",
    "version": 3
   },
   "file_extension": ".py",
   "mimetype": "text/x-python",
   "name": "python",
   "nbconvert_exporter": "python",
   "pygments_lexer": "ipython3",
   "version": "3.7.6"
  }
 },
 "nbformat": 4,
 "nbformat_minor": 5
}
